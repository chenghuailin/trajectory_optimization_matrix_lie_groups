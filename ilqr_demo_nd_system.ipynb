{
 "cells": [
  {
   "cell_type": "markdown",
   "id": "92b6e0a5-012d-413f-83a7-fac9d3723ac3",
   "metadata": {},
   "source": [
    "# ILQR Demo For N-dim System"
   ]
  },
  {
   "cell_type": "code",
   "execution_count": 1,
   "id": "f2d95437-a1e0-4e23-84b8-f919c367de0e",
   "metadata": {},
   "outputs": [
    {
     "name": "stderr",
     "output_type": "stream",
     "text": [
      "An NVIDIA GPU may be present on this machine, but a CUDA-enabled jaxlib is not installed. Falling back to cpu.\n"
     ]
    }
   ],
   "source": [
    "# Import\n",
    "import numpy as np\n",
    "import matplotlib.pyplot as plt\n",
    "\n",
    "import jax\n",
    "import jax.numpy as jnp\n",
    "from jax import grad, jit, vmap\n",
    "from jax import random\n",
    "from jax import jacobian, jacfwd, jacrev, hessian\n",
    "\n",
    "# Random Setup\n",
    "seed = 24234156\n",
    "key = random.key(seed)\n",
    "\n",
    "# Initialization\n",
    "dt = 0.01"
   ]
  },
  {
   "cell_type": "markdown",
   "id": "18807c91-169d-4dd7-ae5c-c49385ea51b4",
   "metadata": {},
   "source": [
    "## 1. 2d Pendulum System Dynamics\n",
    "\n",
    "a pendulum rotating on a vertical plane.\n",
    "\n",
    "- kinematic energy: $E = \\frac{1}{2} m v^2$\n",
    "- potential energy: $P = \\frac{1}{2} mgl sin\\theta$\n",
    "\n",
    "State space system $$x = [\\theta \\quad \\dot{\\theta}]^T = [x_1 \\quad x_2]^T$$\n",
    "then we have \n",
    "$$ \\dot{x} = f(x,u) = [ x_2 \\quad -\\frac{l}{g} \\cos{x_1} + \\frac{1}{ml} u ]^T $$\n",
    "\n"
   ]
  },
  {
   "cell_type": "markdown",
   "id": "a6c4daf8-a3a9-4d80-9f04-344b35ac092e",
   "metadata": {},
   "source": [
    "## 2. iLQR Implementation from Scratch"
   ]
  },
  {
   "cell_type": "code",
   "execution_count": 12,
   "id": "381b633b-59f1-4ad4-a483-54d1b48f2b68",
   "metadata": {},
   "outputs": [],
   "source": [
    "def f(x, u):\n",
    "    g = 9.8 # m/s^2\n",
    "    m = 2 # kg\n",
    "    l = 0.5 # m\n",
    "    \n",
    "    x1, x2 = x\n",
    "    dx1 = x2\n",
    "    dx2 = - (l / g) * jnp.cos(x1) + (1 / (m * l)) * u # (u**2)\n",
    "\n",
    "    # x1, x2 = x\n",
    "    # dx1 = x2\n",
    "    # dx2 = u\n",
    "\n",
    "    return jnp.array([dx1, dx2])"
   ]
  },
  {
   "cell_type": "code",
   "execution_count": 13,
   "id": "09c0369f-1983-480a-b0d6-a67ed097e5f9",
   "metadata": {},
   "outputs": [
    {
     "name": "stdout",
     "output_type": "stream",
     "text": [
      "2.0\n",
      "0.6\n"
     ]
    },
    {
     "data": {
      "text/plain": [
       "Array([0.6     , 1.021232], dtype=float32)"
      ]
     },
     "execution_count": 13,
     "metadata": {},
     "output_type": "execute_result"
    }
   ],
   "source": [
    "x = np.array([2,0.6])\n",
    "x1, x2 = x\n",
    "print(x1)\n",
    "print(x2)\n",
    "u = 1\n",
    "f(x,u)"
   ]
  },
  {
   "cell_type": "code",
   "execution_count": 14,
   "id": "d857ac51-3654-4e41-8c3a-b2e158f62fc1",
   "metadata": {},
   "outputs": [],
   "source": [
    "def fd_rk4(x, u):\n",
    "    g = 9.8 # m/s^2\n",
    "    m = 2 # kg\n",
    "    l = 0.5 # m\n",
    "\n",
    "    s1 = f(x,u)\n",
    "    s2 = f( x+ dt/2*s1, u )\n",
    "    s3 = f( x+ dt/2*s2, u )\n",
    "    s4 = f( x+ dt*s3, u )\n",
    "    x_next = x + dt/6 * ( s1 + 2 * s2 + 2 * s3 + s4 )\n",
    "    \n",
    "    return x_next"
   ]
  },
  {
   "cell_type": "code",
   "execution_count": 19,
   "id": "086bca7d-b3f9-4c54-93c8-426558ba0c21",
   "metadata": {},
   "outputs": [
    {
     "name": "stdout",
     "output_type": "stream",
     "text": [
      "[0.49798056 0.09021932]\n",
      "1.003158\n",
      "f wrt x is  [[1.00000119e+00 1.00000035e-02]\n",
      " [2.43909642e-04 1.00000119e+00]]\n",
      "f wrt u is  [0.00010032 0.02006317]\n",
      "f wrt xx is  [[[2.2408215e-06 7.4687749e-09]\n",
      "  [7.4687740e-09 3.7343864e-11]]\n",
      "\n",
      " [[4.4812594e-04 2.2404361e-06]\n",
      "  [2.2404361e-06 1.4935575e-08]]]\n"
     ]
    }
   ],
   "source": [
    "fd_rk4_x = jacfwd(fd_rk4, argnums=0)\n",
    "fd_rk4_u = jacfwd(fd_rk4, argnums=1)\n",
    "fd_rk4_xx = hessian(fd_rk4)\n",
    "\n",
    "x = random.normal(key, (2,))\n",
    "u = random.normal(key, ())\n",
    "\n",
    "print(x)\n",
    "print(u)\n",
    "\n",
    "print(\"f wrt x is \",fd_rk4_x(x,u))\n",
    "print(\"f wrt u is \",fd_rk4_u(x,u))\n",
    "\n",
    "print(\"f wrt xx is \",fd_rk4_xx(x,u))"
   ]
  },
  {
   "cell_type": "code",
   "execution_count": 31,
   "id": "0904377a-beb3-415d-854c-92497ce986d1",
   "metadata": {},
   "outputs": [
    {
     "name": "stdout",
     "output_type": "stream",
     "text": [
      "f wrt xx is  [[[2.2408215e-06 7.4687749e-09]\n",
      "  [7.4687749e-09 3.7343861e-11]]\n",
      "\n",
      " [[4.4812591e-04 2.2404358e-06]\n",
      "  [2.2404361e-06 1.4935575e-08]]]\n",
      "f wrt xx is hessian [[[2.2408215e-06 7.4687749e-09]\n",
      "  [7.4687740e-09 3.7343864e-11]]\n",
      "\n",
      " [[4.4812594e-04 2.2404361e-06]\n",
      "  [2.2404361e-06 1.4935575e-08]]]\n",
      "f wrt uu is  [0.0001     0.02000001]\n",
      "f wrt uu is hessian [0.0001     0.02000001]\n",
      "f wrt ux is  [[3.7461565e-11 1.8730772e-13]\n",
      " [1.4982692e-08 1.1236529e-10]]\n",
      "f wrt ux is hessian ((Array([[[2.2408215e-06, 7.4687749e-09],\n",
      "        [7.4687740e-09, 3.7343864e-11]],\n",
      "\n",
      "       [[4.4812594e-04, 2.2404361e-06],\n",
      "        [2.2404361e-06, 1.4935575e-08]]], dtype=float32), Array([[3.74615720e-11, 1.87307730e-13],\n",
      "       [1.49826960e-08, 1.12365305e-10]], dtype=float32)), (Array([[3.7461569e-11, 1.8730774e-13],\n",
      "       [1.4982696e-08, 1.1236530e-10]], dtype=float32), Array([0.0001    , 0.02000001], dtype=float32)))\n"
     ]
    }
   ],
   "source": [
    "fd_rk4_xx = jacfwd(jacfwd(fd_rk4))\n",
    "# fd_rk4_xx_grad = jacfwd(grad(fd_rk4)) # Gradient only defined for scalar-output functions\n",
    "fd_rk4_xx_hessian = hessian(fd_rk4)\n",
    "\n",
    "fd_rk4_uu = jacfwd(jacfwd(fd_rk4,argnums=1),argnums=1)\n",
    "fd_rk4_uu_hessian = hessian(fd_rk4,argnums=1)\n",
    "\n",
    "fd_rk4_ux = jacfwd(jacfwd(fd_rk4,argnums=1))\n",
    "fd_rk4_ux_hessian = hessian(fd_rk4, argnums=[0,1])\n",
    "\n",
    "x = random.normal(key, (2,))\n",
    "u = random.normal(key, ())\n",
    "\n",
    "print(\"f wrt xx is \",fd_rk4_xx(x,u))\n",
    "# print(\"f wrt xx is grad\",fd_rk4_xx_grad(x,u))\n",
    "print(\"f wrt xx is hessian\",fd_rk4_xx_hessian(x,u))\n",
    "\n",
    "print(\"f wrt uu is \",fd_rk4_uu(x,u))\n",
    "print(\"f wrt uu is hessian\",fd_rk4_uu_hessian(x,u))\n",
    "\n",
    "print(\"f wrt ux is \",fd_rk4_ux(x,u))\n",
    "print(\"f wrt ux is hessian\",fd_rk4_ux_hessian(x,u))"
   ]
  },
  {
   "cell_type": "code",
   "execution_count": 16,
   "id": "201e2bfb-4813-4072-a9ec-4400d1868144",
   "metadata": {},
   "outputs": [
    {
     "name": "stdout",
     "output_type": "stream",
     "text": [
      "f wrt uu is  [0.0001     0.02000001]\n"
     ]
    }
   ],
   "source": [
    "fd_rk4_uu = hessian(fd_rk4, argnums=1)\n",
    "x = random.normal(key, (2,))\n",
    "u = random.normal(key, ())\n",
    "print(\"f wrt uu is \",fd_rk4_uu(x,u))"
   ]
  },
  {
   "cell_type": "code",
   "execution_count": 9,
   "id": "e74e734e-9edf-4c58-88d0-5f2ce7e602fd",
   "metadata": {},
   "outputs": [],
   "source": [
    "def fd_euler(x, u):\n",
    "    g = 9.8 # m/s^2\n",
    "    m = 2 # kg\n",
    "    l = 0.5 # m\n",
    "\n",
    "    x_next = x + dt * f(x,u)\n",
    "    \n",
    "    return x_next"
   ]
  },
  {
   "cell_type": "code",
   "execution_count": 64,
   "id": "b03e3cdf-3da3-491e-a490-b23da76fc6bf",
   "metadata": {},
   "outputs": [],
   "source": [
    "def forward_pass(x_nor, x0, u):\n",
    "    # x = jnp.zeros(T+1)  \n",
    "    # du = jnp.zeros(T)\n",
    "\n",
    "    x = np.zeros((T+1,nx))  \n",
    "    du = np.zeros(T)\n",
    "   \n",
    "    x[0] = x0\n",
    "    \n",
    "    for t in range(T):\n",
    "        du[t] = k[t] + K[t] @ (x[t] - x_nor[t])\n",
    "        # u[t] += du[t]\n",
    "        u = u.at[t].set(u[t]+du[t])\n",
    "\n",
    "        # linear rollout\n",
    "        # A = 1\n",
    "        # B = 1\n",
    "        # x[t+1] = x_nor[t+1] + A * (x[t] - x_nor[t]) + B * du[t]\n",
    "\n",
    "        # nonlinear rollout: RK4\n",
    "        x[t+1] = fd_rk4(x[t], u[t])\n",
    "\n",
    "        # nonlinear rollout: euler\n",
    "        # x[t+1] = fd_euler(x_nor[t], u[t])\n",
    "        \n",
    "    return x, u"
   ]
  },
  {
   "cell_type": "code",
   "execution_count": 65,
   "id": "ecc4a24d-d6cb-4d55-a890-52838e3e7046",
   "metadata": {},
   "outputs": [],
   "source": [
    "def cost(x, u, x_target, Q, R):\n",
    "    J = 0\n",
    "    for t in range(T+1):\n",
    "        J += 0.5 * (x[t] - x_target) @ Q @ (x[t] - x_target) + 0.5 * u[t] * R * u[t]\n",
    "        print(\"difference of x is \", x[t] - x_target)\n",
    "    return J"
   ]
  },
  {
   "cell_type": "code",
   "execution_count": 66,
   "id": "8dac9940-dda3-40f0-b3ae-d81de6394004",
   "metadata": {},
   "outputs": [
    {
     "name": "stdout",
     "output_type": "stream",
     "text": [
      "[0.49798056 0.09021932]\n",
      "1.003158\n",
      "f wrt x is  [[1.00000119e+00 1.00000035e-02]\n",
      " [2.43909584e-04 1.00000119e+00]]\n",
      "f wrt u is  [5.00000097e-05 1.00000035e-02]\n"
     ]
    },
    {
     "data": {
      "text/plain": [
       "Array([[1.0002451, 2.0004902],\n",
       "       [1.0100012, 2.0200024]], dtype=float32)"
      ]
     },
     "execution_count": 66,
     "metadata": {},
     "output_type": "execute_result"
    }
   ],
   "source": [
    "Q = jnp.array( [[1,2],[1,2]]  )\n",
    "x_t = jnp.array( [1,2] )\n",
    "\n",
    "x = random.normal(key, (2,))\n",
    "u = random.normal(key, ())\n",
    "\n",
    "print(x)\n",
    "print(u)\n",
    "\n",
    "print(\"f wrt x is \",fd_rk4_x(x,u))\n",
    "print(\"f wrt u is \",fd_rk4_u(x,u))\n",
    "\n",
    "A_t = fd_rk4_x(x,u)\n",
    "\n",
    "A_t.T @ Q \n",
    "\n",
    "# State deviation weight\n",
    "# R = 1  # Control effort weight"
   ]
  },
  {
   "cell_type": "code",
   "execution_count": 67,
   "id": "3833003c-34dc-4f68-885e-d5a99912294b",
   "metadata": {},
   "outputs": [],
   "source": [
    "def backward_pass(x, u, x_target, Q, R):\n",
    "    # Vx = jnp.zeros(T+1)\n",
    "    # Vxx = jnp.zeros(T+1)\n",
    "    # k = jnp.zeros(T)\n",
    "    # K = jnp.zeros(T)\n",
    "    \n",
    "\n",
    "    Vx = np.zeros((T+1,nx))\n",
    "    Vxx = np.zeros((T+1,nx,nx))\n",
    "    k = np.zeros(T)\n",
    "    K = np.zeros((T,nx))\n",
    "\n",
    "    # Final cost-to-go\n",
    "    Vx[T] = Q @ ( x[T] - x_target )\n",
    "    # print(\"Vx[T] is \", Vx[T])\n",
    "    Vxx[T] = Q\n",
    "\n",
    "    # print(\"In Backward Pass\")\n",
    "    # print(\"x is\", x)\n",
    "    # print(\"u is\", u)\n",
    "    \n",
    "    for t in reversed(range(T)):\n",
    "        A = fd_rk4_x(x[t], u[t])\n",
    "        # print(\"A is \", A)\n",
    "        B = fd_rk4_u(x[t], u[t])\n",
    "        # print(\"B is \", B)\n",
    "        \n",
    "        Qx = Q @ ( x[t] - x_target )  + A.T @ Vx[t+1]\n",
    "        # print(\"Qx is \", Qx)\n",
    "        Qu = R * u[t] + B.T @ Vx[t+1]\n",
    "        # print(\"Qu is \", Qu)\n",
    "        \n",
    "        Qxx = Q + A.T @ Vxx[t+1] @ A\n",
    "        # print(\"Qxx is \", Qxx)\n",
    "        Qux = B.T @ Vxx[t+1] @ A\n",
    "        # print(\"Qux is \", Qux)\n",
    "        Quu = R + B @ Vxx[t+1] @ B\n",
    "        # print(\"Quu is \", Quu)\n",
    "        \n",
    "        # k[t] = - jnp.linalg.inv(Quu) @ Qu \n",
    "        # K[t] = - jnp.linalg.inv(Quu) @ Qux\n",
    "\n",
    "        k[t] = - Qu / Quu\n",
    "        K[t] = - Qux / Quu\n",
    "        \n",
    "        # Vxx[t] = Qxx + Qux / Quu * Qux\n",
    "        # Vx[t] = Qx - Qux / Quu * Qu\n",
    "\n",
    "        Vxx[t] = Qxx + Qux * K[t]\n",
    "        Vx[t] = Qx + Qux * k[t]\n",
    "        \n",
    "    return k, K"
   ]
  },
  {
   "cell_type": "code",
   "execution_count": 15,
   "id": "fd659af3-b8c0-40d0-ae41-15485630f802",
   "metadata": {},
   "outputs": [],
   "source": [
    "# a = jnp.array([[2,3],[1,3]])\n",
    "# jnp.linalg.inv(a)"
   ]
  },
  {
   "cell_type": "code",
   "execution_count": 68,
   "id": "00cccf22-e795-4452-bee7-9c7ff2681876",
   "metadata": {},
   "outputs": [
    {
     "name": "stdout",
     "output_type": "stream",
     "text": [
      "difference of x is  [-1.5707964  0.       ]\n",
      "difference of x is  [-1.5707964  0.       ]\n",
      "difference of x is  [-1.5707964  0.       ]\n",
      "difference of x is  [-1.5707964  0.       ]\n",
      "difference of x is  [-1.5707964  0.       ]\n",
      "difference of x is  [-1.5707964  0.       ]\n",
      "difference of x is  [-1.5707964  0.       ]\n",
      "difference of x is  [-1.5707964  0.       ]\n",
      "difference of x is  [-1.5707964  0.       ]\n",
      "difference of x is  [-1.5707964  0.       ]\n",
      "difference of x is  [-1.5707964  0.       ]\n",
      "difference of x is  [0.00999999 0.        ]\n",
      "difference of x is  [ 0.0099901 -0.0019884]\n",
      "difference of x is  [ 0.00996196 -0.00364325]\n",
      "difference of x is  [ 0.0099194  -0.00487674]\n",
      "difference of x is  [ 0.0098666  -0.00569256]\n",
      "difference of x is  [ 0.00980735 -0.00615533]\n",
      "difference of x is  [ 0.00974476 -0.00636015]\n",
      "difference of x is  [ 0.00968099 -0.00640629]\n",
      "difference of x is  [ 0.00961709 -0.00637765]\n",
      "difference of x is  [ 0.00955355 -0.00633207]\n",
      "difference of x is  [ 0.00949037 -0.00630044]\n",
      "difference of x is  [0.00999999 0.        ]\n",
      "difference of x is  [ 0.00999784 -0.0004305 ]\n",
      "difference of x is  [ 0.00999188 -0.00076867]\n",
      "difference of x is  [ 0.00998294 -0.00102622]\n",
      "difference of x is  [ 0.00997174 -0.00121444]\n",
      "difference of x is  [ 0.00995898 -0.00134423]\n",
      "difference of x is  [ 0.00994515 -0.00142619]\n",
      "difference of x is  [ 0.00993061 -0.00147069]\n",
      "difference of x is  [ 0.00991583 -0.00148787]\n",
      "difference of x is  [ 0.00990093 -0.00148775]\n",
      "difference of x is  [ 0.00988615 -0.00148025]\n",
      "difference of x is  [0.00999999 0.        ]\n",
      "difference of x is  [ 0.00999784 -0.00043057]\n",
      "difference of x is  [ 0.00999188 -0.00076881]\n",
      "difference of x is  [ 0.00998294 -0.00102641]\n",
      "difference of x is  [ 0.00997174 -0.00121464]\n",
      "difference of x is  [ 0.00995898 -0.00134442]\n",
      "difference of x is  [ 0.00994515 -0.00142638]\n",
      "difference of x is  [ 0.00993061 -0.00147086]\n",
      "difference of x is  [ 0.00991583 -0.00148804]\n",
      "difference of x is  [ 0.00990093 -0.00148792]\n",
      "difference of x is  [ 0.00988603 -0.00148042]\n",
      "Final state trajectory: [[ 1.58079636e+00  0.00000000e+00]\n",
      " [ 1.58079422e+00 -4.30573244e-04]\n",
      " [ 1.58078825e+00 -7.68812839e-04]\n",
      " [ 1.58077931e+00 -1.02640828e-03]\n",
      " [ 1.58076811e+00 -1.21463765e-03]\n",
      " [ 1.58075535e+00 -1.34442141e-03]\n",
      " [ 1.58074152e+00 -1.42637512e-03]\n",
      " [ 1.58072698e+00 -1.47086161e-03]\n",
      " [ 1.58071220e+00 -1.48804148e-03]\n",
      " [ 1.58069730e+00 -1.48792414e-03]\n",
      " [ 1.58068240e+00 -1.48041744e-03]]\n",
      "Final control inputs: [-0.04356749 -0.03433391 -0.02626911 -0.01933199 -0.01348681 -0.00870313\n",
      " -0.00495567 -0.00222427 -0.0004938   0.0002459 ]\n",
      "Cost evoluation: [1.3570709e+04 5.8060300e-01 5.4745239e-01 5.4745197e-01]\n"
     ]
    }
   ],
   "source": [
    "# Initialization\n",
    "\n",
    "nx = 2\n",
    "T = 10  # Number of time steps\n",
    "x0 = jnp.array([jnp.pi/2+0.01,0])   # Initial position\n",
    "x_target = jnp.array([jnp.pi/2,0])  # Target position\n",
    "\n",
    "Q = jnp.diag( jnp.array([1000,50]) )  # State deviation weight\n",
    "R = 1  # Control effort weight\n",
    "\n",
    "x = jnp.zeros((T+1,nx))\n",
    "u = jnp.zeros(T)\n",
    "J_list = jnp.zeros(0)\n",
    "\n",
    "J = cost(x, u, x_target, Q, R)\n",
    "J_list = jnp.append(J_list, J)\n",
    "J_prev = 0\n",
    "\n",
    "tol = 1e-5\n",
    "iter = 0\n",
    "maxiter = 3e4\n",
    "\n",
    "# Main iLQR loop\n",
    "\n",
    "while (abs(J - J_prev) >  tol) and ( iter <  maxiter ) :  # Number of iterations    \n",
    "\n",
    "    J_prev = J\n",
    "    \n",
    "    k, K = backward_pass(x, u, x_target, Q, R)\n",
    "    \n",
    "    x, u = forward_pass(x, x0, u)\n",
    "\n",
    "    J = cost(x, u, x_target, Q, R)\n",
    "    J_list = jnp.append(J_list, J)\n",
    "\n",
    "    iter += 1\n",
    "\n",
    "# Print final trajectories\n",
    "print(\"Final state trajectory:\", x)\n",
    "print(\"Final control inputs:\", u)\n",
    "print(\"Cost evoluation:\", J_list)\n"
   ]
  },
  {
   "cell_type": "code",
   "execution_count": 57,
   "id": "5de8de21-fedf-4f83-ba7d-3b4847beca47",
   "metadata": {},
   "outputs": [
    {
     "data": {
      "image/png": "[encoded data removed]",
      "text/plain": [
       "<Figure size 600x900 with 4 Axes>"
      ]
     },
     "metadata": {},
     "output_type": "display_data"
    }
   ],
   "source": [
    "fig, ax = plt.subplots(4,1, figsize=(6, 9))\n",
    "ax[0].plot(J_list)\n",
    "ax[0].set_ylabel('J(x,u)')\n",
    "ax[0].set_xlabel('step')\n",
    "ax[0].set_title('Cost Function Evolution')\n",
    "\n",
    "ax[1].plot(abs(J_list[1:]-J_list[:-1]))\n",
    "ax[1].set_xlabel('step')\n",
    "ax[1].set_title(' J-J_{prev} ')\n",
    "ax[1].set_yscale('log')\n",
    "\n",
    "ax[2].plot(x[:,0])\n",
    "ax[2].set_xlabel('step')\n",
    "ax[2].set_title(' x[0] ')\n",
    "\n",
    "ax[3].plot(x[:,0])\n",
    "ax[3].plot(np.ones_like(x[:,1]) * x_target[0], linestyle=\"--\")\n",
    "ax[3].set_xlabel('step')\n",
    "ax[3].set_title(' x[0] Comparison with Reference ')\n",
    "\n",
    "fig.subplots_adjust(hspace=1)\n",
    "plt.show()"
   ]
  },
  {
   "cell_type": "code",
   "execution_count": 63,
   "id": "d3c84bca-14a1-4906-9d3c-1f7c93060faf",
   "metadata": {},
   "outputs": [
    {
     "data": {
      "text/plain": [
       "Array([0.00999999, 0.        ], dtype=float32)"
      ]
     },
     "execution_count": 63,
     "metadata": {},
     "output_type": "execute_result"
    }
   ],
   "source": [
    "x0 - x_target"
   ]
  },
  {
   "cell_type": "markdown",
   "id": "ef980786-d1a4-461d-96aa-ebe30cec9dcf",
   "metadata": {},
   "source": [
    "## 3. Implementation based on Trajax"
   ]
  },
  {
   "cell_type": "code",
   "execution_count": null,
   "id": "b81d80af-60fd-40ce-b1f3-4689835ccc50",
   "metadata": {},
   "outputs": [],
   "source": []
  }
 ],
 "metadata": {
  "kernelspec": {
   "display_name": "Python 3 (ipykernel)",
   "language": "python",
   "name": "python3"
  },
  "language_info": {
   "codemirror_mode": {
    "name": "ipython",
    "version": 3
   },
   "file_extension": ".py",
   "mimetype": "text/x-python",
   "name": "python",
   "nbconvert_exporter": "python",
   "pygments_lexer": "ipython3",
   "version": "3.10.13"
  }
 },
 "nbformat": 4,
 "nbformat_minor": 5
}
