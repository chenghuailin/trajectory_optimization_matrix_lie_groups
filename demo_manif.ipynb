{
 "cells": [
  {
   "cell_type": "code",
   "execution_count": 2,
   "metadata": {},
   "outputs": [],
   "source": [
    "import numpy as np\n",
    "import jax.numpy as jnp\n",
    "from manifpy import SE3, SE3Tangent, SO3Tangent"
   ]
  },
  {
   "cell_type": "code",
   "execution_count": 2,
   "metadata": {},
   "outputs": [
    {
     "name": "stdout",
     "output_type": "stream",
     "text": [
      "x is \n",
      " 0.0268018  0.904459   0.83239 -0.498594  0.518899 -0.456224 -0.523457 \n",
      "x is  0.026801820391231024 \n",
      "y is  0.9044594503494257 \n",
      "z is  0.8323901360074013 \n",
      "translation is  [0.02680182 0.90445945 0.83239014] \n",
      "transformation is \n",
      " [[ 0.0452059  -0.99506743 -0.08830191  0.02680182]\n",
      " [-0.03981301  0.08652748 -0.99545362  0.90445945]\n",
      " [ 0.99818403  0.04851594 -0.03570508  0.83239014]\n",
      " [ 0.          0.          0.          1.        ]] \n",
      "rotation is \n",
      " [[ 0.0452059  -0.99506743 -0.08830191]\n",
      " [-0.03981301  0.08652748 -0.99545362]\n",
      " [ 0.99818403  0.04851594 -0.03570508]] \n",
      "adjoint is \n",
      " [[ 0.0452059  -0.99506743 -0.08830191  0.93595693 -0.02814392  0.79631198]\n",
      " [-0.03981301  0.08652748 -0.99545362  0.01087579 -0.82958463 -0.07254468]\n",
      " [ 0.99818403  0.04851594 -0.03570508 -0.04195396  0.90231724  0.05318553]\n",
      " [ 0.          0.          0.          0.0452059  -0.99506743 -0.08830191]\n",
      " [ 0.          0.          0.         -0.03981301  0.08652748 -0.99545362]\n",
      " [ 0.          0.          0.          0.99818403  0.04851594 -0.03570508]] \n",
      "Lie Algebra is \n",
      "    1.00818    1.06919 -0.0527689    1.19362   -1.24223    1.09219 \n",
      "type of X is: <class 'manifpy._bindings.SE3'>\n"
     ]
    }
   ],
   "source": [
    "X = SE3.Random()\n",
    "print(\"x is \\n\", X, \"\\n\"\n",
    "      \"x is \",X.x(),\n",
    "      \"\\ny is \", X.y(),\n",
    "      \"\\nz is \", X.z(),\n",
    "      \"\\ntranslation is \", X.translation(),\n",
    "      \"\\ntransformation is \\n\", X.transform(),\n",
    "      \"\\nrotation is \\n\", X.rotation(),\n",
    "      \"\\nadjoint is \\n\", X.adj(),\n",
    "      \"\\nLie Algebra is \\n\", X.log(),\n",
    "      \"\\ntype of X is:\", type(X))"
   ]
  },
  {
   "cell_type": "code",
   "execution_count": 9,
   "metadata": {},
   "outputs": [
    {
     "name": "stdout",
     "output_type": "stream",
     "text": [
      "x is \n",
      "  0.271423  0.434594 -0.716795 -0.388453 -0.309087  -1.89623 \n",
      " \n",
      "x.coeffs() is \n",
      " [ 0.27142346  0.43459386 -0.71679489 -0.38845297 -0.30908682 -1.89622585] \n",
      "x hat is \n",
      " [[ 0.          1.89622585 -0.30908682  0.27142346]\n",
      " [-1.89622585  0.          0.38845297  0.43459386]\n",
      " [ 0.30908682 -0.38845297  0.         -0.71679489]\n",
      " [ 0.          0.          0.          0.        ]] \n",
      "type of x hat is \n",
      " <class 'numpy.ndarray'> \n",
      "exp(x)  is \n",
      " [[-0.32538885  0.93811304  0.11860025  0.44380343]\n",
      " [-0.85188991 -0.34526714  0.3937946  -0.12720936]\n",
      " [ 0.41037262  0.02710202  0.91151511 -0.66053342]\n",
      " [ 0.          0.          0.          1.        ]] \n",
      "adjoint x on Lie Algebra is \n",
      " [[ 0.          1.89622585 -0.30908682  0.          0.71679489  0.43459386]\n",
      " [-1.89622585  0.          0.38845297 -0.71679489  0.         -0.27142346]\n",
      " [ 0.30908682 -0.38845297  0.         -0.43459386  0.27142346  0.        ]\n",
      " [ 0.          0.          0.          0.          1.89622585 -0.30908682]\n",
      " [ 0.          0.          0.         -1.89622585  0.          0.38845297]\n",
      " [ 0.          0.          0.          0.30908682 -0.38845297  0.        ]] \n",
      "x.T @ Q @ x is \n",
      " 4.618440272711092 \n",
      "jax expm of x is\n",
      " [[-0.32538885  0.93811303  0.11860026  0.4438034 ]\n",
      " [-0.85188997 -0.34526715  0.3937946  -0.12720937]\n",
      " [ 0.41037267  0.02710204  0.9115151  -0.6605334 ]\n",
      " [ 0.          0.          0.          1.        ]]\n"
     ]
    }
   ],
   "source": [
    "from jax.scipy.linalg import expm\n",
    "\n",
    "x = SE3Tangent.Random()\n",
    "Q = np.eye(6)\n",
    "\n",
    "print(\"x is \\n\", x, \"\\n\",\n",
    "      \"\\nx.coeffs() is \\n\", x.coeffs(),\n",
    "      \"\\nx hat is \\n\", x.hat(),\n",
    "      \"\\ntype of x hat is \\n\", type(x.hat()),\n",
    "      \"\\nexp(x)  is \\n\", x.exp().transform(),\n",
    "      \"\\nadjoint x on Lie Algebra is \\n\", x.smallAdj(),\n",
    "      \"\\nx.T @ Q @ x is \\n\", x.coeffs().T @ Q @ x.coeffs(),\n",
    "      \"\\njax expm of x is\\n\", expm(x.hat())\n",
    "      )"
   ]
  },
  {
   "cell_type": "code",
   "execution_count": 65,
   "metadata": {},
   "outputs": [
    {
     "name": "stdout",
     "output_type": "stream",
     "text": [
      "[<manifpy._bindings.SE3 object at 0x7f67dc956030>\n",
      " <manifpy._bindings.SE3 object at 0x7f67bb922530>\n",
      " <manifpy._bindings.SE3 object at 0x7f67bb9243f0>\n",
      " <manifpy._bindings.SE3 object at 0x7f67bb956af0>\n",
      " <manifpy._bindings.SE3 object at 0x7f67bb9587f0>\n",
      " <manifpy._bindings.SE3 object at 0x7f67bb9767f0>\n",
      " <manifpy._bindings.SE3 object at 0x7f67bb98cf70>\n",
      " <manifpy._bindings.SE3 object at 0x7f67bba6a8f0>\n",
      " <manifpy._bindings.SE3 object at 0x7f67bb4175f0>\n",
      " <manifpy._bindings.SE3 object at 0x7f67bb42ec30>]\n",
      "[<manifpy._bindings.SE3 object at 0x7f67f869dc30>, <manifpy._bindings.SE3 object at 0x7f67bba6f330>, <manifpy._bindings.SE3 object at 0x7f67bba1d8b0>, <manifpy._bindings.SE3 object at 0x7f67bb95af70>, <manifpy._bindings.SE3 object at 0x7f67bb463930>, <manifpy._bindings.SE3 object at 0x7f67bb482a30>, <manifpy._bindings.SE3 object at 0x7f67bb96e2b0>, <manifpy._bindings.SE3 object at 0x7f67bb937530>, <manifpy._bindings.SE3 object at 0x7f67bb92a7b0>, <manifpy._bindings.SE3 object at 0x7f67bb4fbe70>]\n"
     ]
    }
   ],
   "source": [
    "from traoptlibrary.traopt_utilis import SE32manifSE3\n",
    "import numpy as np\n",
    "from manifpy import SE3\n",
    "\n",
    "print(np.array([SE32manifSE3(np.identity(4)) for i in range(10)]))\n",
    "print([SE32manifSE3(np.identity(4)) for i in range(10)])"
   ]
  },
  {
   "cell_type": "code",
   "execution_count": null,
   "metadata": {},
   "outputs": [
    {
     "name": "stdout",
     "output_type": "stream",
     "text": [
      "\n",
      "x is \n",
      " -0.913837  0.248753  -1.70188 \n",
      "x hat is \n",
      " [[ 0.          1.7018785   0.24875285]\n",
      " [-1.7018785   0.          0.91383675]\n",
      " [-0.24875285 -0.91383675  0.        ]] \n",
      "exp(x)  is \n",
      " [[-0.06684132  0.73051023  0.67962273]\n",
      " [-0.89446684 -0.34568777  0.28360015]\n",
      " [ 0.44211007 -0.58894378  0.6765234 ]] \n",
      "the 1st generator/basis is \n",
      " [[ 0. -1.  0.]\n",
      " [ 1.  0.  0.]\n",
      " [ 0.  0.  0.]] \n",
      "adjoint x on Lie Group is \n",
      " [[-0.06684132  0.73051023  0.67962273]\n",
      " [-0.89446684 -0.34568777  0.28360015]\n",
      " [ 0.44211007 -0.58894378  0.6765234 ]] \n",
      "adjoint x on Lie Algebra is \n",
      " [[ 0.          1.7018785   0.24875285]\n",
      " [-1.7018785   0.          0.91383675]\n",
      " [-0.24875285 -0.91383675  0.        ]] \n",
      "type of x is <class 'numpy.ndarray'>\n"
     ]
    }
   ],
   "source": [
    "x = SO3Tangent.Random()\n",
    "print(\"\\nx is \\n\", x,\n",
    "      \"\\nx hat is \\n\", x.hat(),\n",
    "      \"\\nexp(x)  is \\n\", x.exp().rotation(),\n",
    "      \"\\nthe 1st generator/basis is \\n\", x.generator(2),\n",
    "      \"\\nadjoint x on Lie Group is \\n\", x.exp().adj(),\n",
    "      \"\\nadjoint x on Lie Algebra is \\n\", x.smallAdj(),\n",
    "      \"\\ntype of x is\",type(x.hat())\n",
    "      )"
   ]
  },
  {
   "cell_type": "markdown",
   "metadata": {},
   "source": [
    "**Show Lie group composite operation doesn't commute.**"
   ]
  },
  {
   "cell_type": "code",
   "execution_count": null,
   "metadata": {},
   "outputs": [
    {
     "name": "stdout",
     "output_type": "stream",
     "text": [
      "\n",
      "Log( X1^{-1} X2 ) is\n",
      "   1.52959 -0.732515 -0.424628 -0.372802   1.60682 0.0209665 \n",
      "Log( X2 X1^{-1} ) is\n",
      "  0.342474   1.13539 0.0241945   -1.0893  -1.21279 -0.252694\n"
     ]
    }
   ],
   "source": [
    "X1 = SE3.Random()\n",
    "X2 = SE3.Random()\n",
    "\n",
    "print(\"\\nLog( X1^{-1} X2 ) is\\n\", (X1.inverse() * X2).log(),\n",
    "      \"\\nLog( X2 X1^{-1} ) is\\n\", (X2 * X1.inverse()).log(),\n",
    "      )\n"
   ]
  },
  {
   "cell_type": "code",
   "execution_count": null,
   "metadata": {},
   "outputs": [
    {
     "data": {
      "text/plain": [
       "array([[ 0.88543078, -0.06131578, -0.58325924, -0.1238093 ,  0.02090976,\n",
       "        -0.3167931 ],\n",
       "       [-0.21038934,  0.83415273, -0.66717766, -0.21651191, -0.0712733 ,\n",
       "        -0.09076124],\n",
       "       [ 0.54743702,  0.69687164,  0.72349844,  0.25197164,  0.15409978,\n",
       "        -0.1824661 ],\n",
       "       [ 0.        ,  0.        ,  0.        ,  0.88543078, -0.06131578,\n",
       "        -0.58325924],\n",
       "       [ 0.        ,  0.        ,  0.        , -0.21038934,  0.83415273,\n",
       "        -0.66717766],\n",
       "       [ 0.        ,  0.        ,  0.        ,  0.54743702,  0.69687164,\n",
       "         0.72349844]])"
      ]
     },
     "execution_count": 29,
     "metadata": {},
     "output_type": "execute_result"
    }
   ],
   "source": [
    "X = SE3.Random()\n",
    "J = np.empty((SE3.DoF, SE3.DoF))\n",
    "X.log(J)\n",
    "J"
   ]
  },
  {
   "cell_type": "markdown",
   "metadata": {},
   "source": [
    "**Compare manif and jax autodiff Jacobian matrix**"
   ]
  },
  {
   "cell_type": "code",
   "execution_count": 19,
   "metadata": {},
   "outputs": [
    {
     "name": "stdout",
     "output_type": "stream",
     "text": [
      "[[1. 0. 0. 0.]\n",
      " [0. 1. 0. 0.]\n",
      " [0. 0. 1. 3.]\n",
      " [0. 0. 0. 1.]]\n",
      "[0. 0. 0. 0. 0. 3.]\n",
      "\n",
      "For expm map,\n",
      " \n",
      "Shape of manif Jacobian\n",
      " (6, 6) \n",
      "Type of manif Jacobian\n",
      " <class 'numpy.ndarray'> \n",
      "Manif Jacobian is\n",
      " [[ 0.04704     0.66333083  0.          0.          0.          0.        ]\n",
      " [-0.66333083  0.04704     0.          0.          0.          0.        ]\n",
      " [ 0.          0.          1.          0.          0.          0.        ]\n",
      " [ 0.          0.          0.          0.04704     0.66333083  0.        ]\n",
      " [ 0.          0.          0.         -0.66333083  0.04704     0.        ]\n",
      " [ 0.          0.          0.          0.          0.          1.        ]] \n",
      "Shape of jax Jacobian\n",
      " (4, 4, 4, 4) \n",
      "Jax Jacobian is\n",
      " [[[[1.  0.  0.  0. ]\n",
      "   [0.  0.  0.  0. ]\n",
      "   [0.  0.  0.  0. ]\n",
      "   [0.  0.  0.  0. ]]\n",
      "\n",
      "  [[0.  1.  0.  0. ]\n",
      "   [0.  0.  0.  0. ]\n",
      "   [0.  0.  0.  0. ]\n",
      "   [0.  0.  0.  0. ]]\n",
      "\n",
      "  [[0.  0.  1.  0. ]\n",
      "   [0.  0.  0.  0. ]\n",
      "   [0.  0.  0.  0. ]\n",
      "   [0.  0.  0.  0. ]]\n",
      "\n",
      "  [[0.  0.  1.5 1. ]\n",
      "   [0.  0.  0.  0. ]\n",
      "   [0.  0.  0.  0. ]\n",
      "   [0.  0.  0.  0. ]]]\n",
      "\n",
      "\n",
      " [[[0.  0.  0.  0. ]\n",
      "   [1.  0.  0.  0. ]\n",
      "   [0.  0.  0.  0. ]\n",
      "   [0.  0.  0.  0. ]]\n",
      "\n",
      "  [[0.  0.  0.  0. ]\n",
      "   [0.  1.  0.  0. ]\n",
      "   [0.  0.  0.  0. ]\n",
      "   [0.  0.  0.  0. ]]\n",
      "\n",
      "  [[0.  0.  0.  0. ]\n",
      "   [0.  0.  1.  0. ]\n",
      "   [0.  0.  0.  0. ]\n",
      "   [0.  0.  0.  0. ]]\n",
      "\n",
      "  [[0.  0.  0.  0. ]\n",
      "   [0.  0.  1.5 1. ]\n",
      "   [0.  0.  0.  0. ]\n",
      "   [0.  0.  0.  0. ]]]\n",
      "\n",
      "\n",
      " [[[0.  0.  0.  0. ]\n",
      "   [0.  0.  0.  0. ]\n",
      "   [1.  0.  0.  0. ]\n",
      "   [1.5 0.  0.  0. ]]\n",
      "\n",
      "  [[0.  0.  0.  0. ]\n",
      "   [0.  0.  0.  0. ]\n",
      "   [0.  1.  0.  0. ]\n",
      "   [0.  1.5 0.  0. ]]\n",
      "\n",
      "  [[0.  0.  0.  0. ]\n",
      "   [0.  0.  0.  0. ]\n",
      "   [0.  0.  1.  0. ]\n",
      "   [0.  0.  1.5 0. ]]\n",
      "\n",
      "  [[0.  0.  0.  0. ]\n",
      "   [0.  0.  0.  0. ]\n",
      "   [0.  0.  1.5 1. ]\n",
      "   [0.  0.  1.5 1.5]]]\n",
      "\n",
      "\n",
      " [[[0.  0.  0.  0. ]\n",
      "   [0.  0.  0.  0. ]\n",
      "   [0.  0.  0.  0. ]\n",
      "   [1.  0.  0.  0. ]]\n",
      "\n",
      "  [[0.  0.  0.  0. ]\n",
      "   [0.  0.  0.  0. ]\n",
      "   [0.  0.  0.  0. ]\n",
      "   [0.  1.  0.  0. ]]\n",
      "\n",
      "  [[0.  0.  0.  0. ]\n",
      "   [0.  0.  0.  0. ]\n",
      "   [0.  0.  0.  0. ]\n",
      "   [0.  0.  1.  0. ]]\n",
      "\n",
      "  [[0.  0.  0.  0. ]\n",
      "   [0.  0.  0.  0. ]\n",
      "   [0.  0.  0.  0. ]\n",
      "   [0.  0.  1.5 1. ]]]] \n",
      "Tensor inverse of jax Jacobian is\n",
      " [[[[ 1.   0.   0.   0. ]\n",
      "   [ 0.   0.   0.   0. ]\n",
      "   [ 0.   0.   0.   0. ]\n",
      "   [ 0.   0.   0.   0. ]]\n",
      "\n",
      "  [[ 0.   1.   0.   0. ]\n",
      "   [ 0.   0.   0.   0. ]\n",
      "   [ 0.   0.   0.   0. ]\n",
      "   [ 0.   0.   0.   0. ]]\n",
      "\n",
      "  [[ 0.   0.   1.   0. ]\n",
      "   [ 0.   0.   0.   0. ]\n",
      "   [ 0.   0.   0.   0. ]\n",
      "   [ 0.   0.   0.   0. ]]\n",
      "\n",
      "  [[-0.  -0.  -1.5  1. ]\n",
      "   [-0.  -0.  -0.  -0. ]\n",
      "   [-0.  -0.  -0.  -0. ]\n",
      "   [-0.  -0.  -0.  -0. ]]]\n",
      "\n",
      "\n",
      " [[[ 0.   0.   0.   0. ]\n",
      "   [ 1.   0.   0.   0. ]\n",
      "   [ 0.   0.   0.   0. ]\n",
      "   [ 0.   0.   0.   0. ]]\n",
      "\n",
      "  [[ 0.   0.   0.   0. ]\n",
      "   [ 0.   1.   0.   0. ]\n",
      "   [ 0.   0.   0.   0. ]\n",
      "   [ 0.   0.   0.   0. ]]\n",
      "\n",
      "  [[ 0.   0.   0.   0. ]\n",
      "   [ 0.   0.   1.   0. ]\n",
      "   [ 0.   0.   0.   0. ]\n",
      "   [ 0.   0.   0.   0. ]]\n",
      "\n",
      "  [[-0.  -0.  -0.  -0. ]\n",
      "   [-0.  -0.  -1.5  1. ]\n",
      "   [-0.  -0.  -0.  -0. ]\n",
      "   [-0.  -0.  -0.  -0. ]]]\n",
      "\n",
      "\n",
      " [[[ 0.   0.   0.   0. ]\n",
      "   [ 0.   0.   0.   0. ]\n",
      "   [ 1.   0.   0.   0. ]\n",
      "   [-1.5  0.   0.   0. ]]\n",
      "\n",
      "  [[ 0.   0.   0.   0. ]\n",
      "   [ 0.   0.   0.   0. ]\n",
      "   [ 0.   1.   0.   0. ]\n",
      "   [ 0.  -1.5  0.   0. ]]\n",
      "\n",
      "  [[ 0.   0.   0.   0. ]\n",
      "   [ 0.   0.   0.   0. ]\n",
      "   [ 0.   0.   1.   0. ]\n",
      "   [ 0.   0.  -1.5  0. ]]\n",
      "\n",
      "  [[-0.  -0.  -0.  -0. ]\n",
      "   [-0.  -0.  -0.  -0. ]\n",
      "   [-0.  -0.  -1.5  1. ]\n",
      "   [-0.  -0.   3.  -1.5]]]\n",
      "\n",
      "\n",
      " [[[ 0.   0.   0.   0. ]\n",
      "   [ 0.   0.   0.   0. ]\n",
      "   [ 0.   0.   0.   0. ]\n",
      "   [ 1.   0.   0.   0. ]]\n",
      "\n",
      "  [[ 0.   0.   0.   0. ]\n",
      "   [ 0.   0.   0.   0. ]\n",
      "   [ 0.   0.   0.   0. ]\n",
      "   [ 0.   1.   0.   0. ]]\n",
      "\n",
      "  [[ 0.   0.   0.   0. ]\n",
      "   [ 0.   0.   0.   0. ]\n",
      "   [ 0.   0.   0.   0. ]\n",
      "   [ 0.   0.   1.   0. ]]\n",
      "\n",
      "  [[-0.  -0.  -0.  -0. ]\n",
      "   [-0.  -0.  -0.  -0. ]\n",
      "   [-0.  -0.  -0.  -0. ]\n",
      "   [-0.  -0.  -1.5  1. ]]]]\n"
     ]
    }
   ],
   "source": [
    "import jax.scipy.linalg as jsl\n",
    "from traoptlibrary.traopt_utilis import quatpos2SE3, se3_vee, se3_hat\n",
    "import scipy.linalg as sl\n",
    "import jax\n",
    "from manifpy import SE3Tangent\n",
    "\n",
    "quat0 = np.array([1, 0, 0, 0])\n",
    "p0 = np.array([0, 0, 3])\n",
    "\n",
    "X0 = quatpos2SE3( np.concatenate((quat0, p0)) )\n",
    "print(X0)\n",
    "\n",
    "x0 = se3_vee(sl.logm( X0 ))\n",
    "print(x0)\n",
    "\n",
    "dexp_jax = jax.jacfwd(jsl.expm)\n",
    "J_jax = dexp_jax(se3_hat(x0))\n",
    "\n",
    "x0_mnf = SE3Tangent(x0)\n",
    "J_mnf = np.empty((SE3.DoF,SE3.DoF))\n",
    "x0_mnf.exp( J_mnf )\n",
    "\n",
    "print(  \"\\nFor expm map,\\n\", \n",
    "        \"\\nShape of manif Jacobian\\n\", J_mnf.shape, \n",
    "        \"\\nType of manif Jacobian\\n\", type(J_mnf), \n",
    "        \"\\nManif Jacobian is\\n\", J_mnf,\n",
    "        \"\\nShape of jax Jacobian\\n\", J_jax.shape, \n",
    "        \"\\nJax Jacobian is\\n\", J_jax,\n",
    "        \"\\nTensor inverse of jax Jacobian is\\n\", np.linalg.tensorinv(J_jax),\n",
    "    )"
   ]
  },
  {
   "cell_type": "markdown",
   "metadata": {},
   "source": [
    "**show manif can't be jit**"
   ]
  },
  {
   "cell_type": "code",
   "execution_count": 10,
   "metadata": {},
   "outputs": [
    {
     "ename": "TypeError",
     "evalue": "Cannot interpret value of type <class 'manifpy._bindings.SE3'> as an abstract array; it does not have a dtype attribute",
     "output_type": "error",
     "traceback": [
      "\u001b[0;31m---------------------------------------------------------------------------\u001b[0m",
      "\u001b[0;31mTypeError\u001b[0m                                 Traceback (most recent call last)",
      "\u001b[0;32m/tmp/ipykernel_357888/2484190877.py\u001b[0m in \u001b[0;36m<module>\u001b[0;34m\u001b[0m\n\u001b[1;32m     10\u001b[0m \u001b[0mx2\u001b[0m \u001b[0;34m=\u001b[0m \u001b[0mSE3\u001b[0m\u001b[0;34m.\u001b[0m\u001b[0mRandom\u001b[0m\u001b[0;34m(\u001b[0m\u001b[0;34m)\u001b[0m\u001b[0;34m\u001b[0m\u001b[0;34m\u001b[0m\u001b[0m\n\u001b[1;32m     11\u001b[0m \u001b[0;34m\u001b[0m\u001b[0m\n\u001b[0;32m---> 12\u001b[0;31m \u001b[0mgminus_jit\u001b[0m\u001b[0;34m(\u001b[0m\u001b[0mx1\u001b[0m\u001b[0;34m,\u001b[0m \u001b[0mx2\u001b[0m\u001b[0;34m)\u001b[0m\u001b[0;34m\u001b[0m\u001b[0;34m\u001b[0m\u001b[0m\n\u001b[0m",
      "    \u001b[0;31m[... skipping hidden 6 frame]\u001b[0m\n",
      "\u001b[0;32m~/anaconda3/envs/py310/lib/python3.10/site-packages/jax/_src/api_util.py\u001b[0m in \u001b[0;36m_shaped_abstractify_slow\u001b[0;34m(x)\u001b[0m\n\u001b[1;32m    574\u001b[0m     \u001b[0mdtype\u001b[0m \u001b[0;34m=\u001b[0m \u001b[0mdtypes\u001b[0m\u001b[0;34m.\u001b[0m\u001b[0mcanonicalize_dtype\u001b[0m\u001b[0;34m(\u001b[0m\u001b[0mx\u001b[0m\u001b[0;34m.\u001b[0m\u001b[0mdtype\u001b[0m\u001b[0;34m,\u001b[0m \u001b[0mallow_extended_dtype\u001b[0m\u001b[0;34m=\u001b[0m\u001b[0;32mTrue\u001b[0m\u001b[0;34m)\u001b[0m\u001b[0;34m\u001b[0m\u001b[0;34m\u001b[0m\u001b[0m\n\u001b[1;32m    575\u001b[0m   \u001b[0;32melse\u001b[0m\u001b[0;34m:\u001b[0m\u001b[0;34m\u001b[0m\u001b[0;34m\u001b[0m\u001b[0m\n\u001b[0;32m--> 576\u001b[0;31m     raise TypeError(\n\u001b[0m\u001b[1;32m    577\u001b[0m         \u001b[0;34mf\"Cannot interpret value of type {type(x)} as an abstract array; it \"\u001b[0m\u001b[0;34m\u001b[0m\u001b[0;34m\u001b[0m\u001b[0m\n\u001b[1;32m    578\u001b[0m         \"does not have a dtype attribute\")\n",
      "\u001b[0;31mTypeError\u001b[0m: Cannot interpret value of type <class 'manifpy._bindings.SE3'> as an abstract array; it does not have a dtype attribute"
     ]
    }
   ],
   "source": [
    "import jax\n",
    "\n",
    "def gminus(x1,x2):\n",
    "    # return x1.rminus( x2 ) \n",
    "    return x1 - x2 \n",
    "\n",
    "gminus_jit = jax.jit(gminus)\n",
    "\n",
    "x1 = SE3.Random()\n",
    "x2 = SE3.Random()\n",
    "\n",
    "gminus_jit(x1, x2)"
   ]
  },
  {
   "cell_type": "markdown",
   "metadata": {},
   "source": [
    "**Test the manif jacobian, and show its organization of tangent vector [v,w] instead of [w,v]**"
   ]
  },
  {
   "cell_type": "code",
   "execution_count": 64,
   "metadata": {},
   "outputs": [
    {
     "name": "stdout",
     "output_type": "stream",
     "text": [
      "[[ 1.   0.   0.   0.   0.5  0. ]\n",
      " [ 0.   1.   0.  -0.5  0.   0. ]\n",
      " [ 0.   0.   1.   0.   0.   0. ]\n",
      " [ 0.   0.   0.   1.   0.   0. ]\n",
      " [ 0.   0.   0.   0.   1.   0. ]\n",
      " [ 0.   0.   0.   0.   0.   1. ]]\n",
      "0 0 1 0 0 0\n",
      "         0    -0.0005 0.00100008      0.001          0          0\n"
     ]
    }
   ],
   "source": [
    "a = SE3Tangent([1,2,3,4,5,6])\n",
    "a.hat()\n",
    "\n",
    "a = SE3Tangent([0,0,1,0,0,0])\n",
    "da = np.array([ 0,0,0.001,0.001,0,0 ])\n",
    "# da = np.array([ -0.01, 0., 0., 0., 0.01, 0. ])\n",
    "a2 = SE3Tangent(a.coeffs() + da)\n",
    "\n",
    "A = SE3.Identity()\n",
    "J1 = np.empty((6,6))\n",
    "J2 = np.empty((6,6))\n",
    "B = A.rplus( a, J1, J2 )\n",
    "print(J2)\n",
    "print(B.log())\n",
    "\n",
    "B2 = A.rplus( a2, J )\n",
    "print(B2 - B)\n"
   ]
  },
  {
   "cell_type": "code",
   "execution_count": 11,
   "metadata": {},
   "outputs": [
    {
     "name": "stdout",
     "output_type": "stream",
     "text": [
      "\n",
      "manif Log result is\n",
      "   1.15939 0.0602331  0.147916  -1.56223   0.74203  0.817822 \n",
      "numerical result is\n",
      " [-1.5622338   0.7420303   0.81782216  1.1593918   0.06023308  0.14791594]\n"
     ]
    }
   ],
   "source": [
    "from traoptlibrary.traopt_utilis import se3_vee\n",
    "from scipy.linalg import logm\n",
    "\n",
    "X1 = SE3.Random()\n",
    "X2 = SE3.Random()\n",
    "\n",
    "Y1 = X1.transform()\n",
    "Y2 = X2.transform()\n",
    "\n",
    "print(\"\\nmanif Log result is\\n\", X1 - X2,\n",
    "      \"\\nnumerical result is\\n\", se3_vee(logm(np.linalg.inv( Y2 ) @ Y1)))"
   ]
  },
  {
   "cell_type": "code",
   "execution_count": 19,
   "metadata": {},
   "outputs": [],
   "source": [
    "q_ref = SE3.Random()\n",
    "q = SE3.Random()\n",
    "\n",
    "q_err = q.rminus( q_ref ).coeffs()\n",
    "\n",
    "q_err = se3_vee(logm(np.linalg.inv( q_ref.transform() ) @ q.transform() ))"
   ]
  },
  {
   "cell_type": "code",
   "execution_count": 82,
   "metadata": {},
   "outputs": [
    {
     "name": "stdout",
     "output_type": "stream",
     "text": [
      "CPU times: user 3 µs, sys: 0 ns, total: 3 µs\n",
      "Wall time: 5.48 µs\n"
     ]
    }
   ],
   "source": [
    "%time\n",
    "q_ref = SE3.Random()\n",
    "q = SE3.Random()\n",
    "a = [ q.rminus( q_ref ).coeffs() for i in range(100) ]\n",
    "\n",
    "# q_err = q.rminus( q_ref ).coeffs()"
   ]
  },
  {
   "cell_type": "code",
   "execution_count": 87,
   "metadata": {},
   "outputs": [
    {
     "name": "stdout",
     "output_type": "stream",
     "text": [
      "CPU times: user 3 µs, sys: 0 ns, total: 3 µs\n",
      "Wall time: 5.48 µs\n"
     ]
    }
   ],
   "source": [
    "%time\n",
    "a = [ se3_vee(logm(np.linalg.inv( q_ref.transform() ) @ q.transform() )) for i in range(100) ]\n",
    "\n",
    "# q_err = se3_vee(logm(np.linalg.inv( q_ref.transform() ) @ q.transform() ))"
   ]
  },
  {
   "cell_type": "code",
   "execution_count": 78,
   "metadata": {},
   "outputs": [
    {
     "data": {
      "text/plain": [
       "True"
      ]
     },
     "execution_count": 78,
     "metadata": {},
     "output_type": "execute_result"
    }
   ],
   "source": [
    "import manifpy\n",
    "type(a) == SE3Tangent"
   ]
  },
  {
   "cell_type": "code",
   "execution_count": 90,
   "metadata": {},
   "outputs": [
    {
     "name": "stdout",
     "output_type": "stream",
     "text": [
      "[[ 0.         -0.07320058  0.0954188   0.08211882]\n",
      " [ 0.07320058  0.         -0.04568241  0.05043102]\n",
      " [-0.0954188   0.04568241  0.          0.01670882]\n",
      " [ 0.          0.          0.          0.        ]]\n",
      "[[ 0.         -0.07320058  0.0954188   0.08211882]\n",
      " [ 0.07320058  0.         -0.04568241  0.05043102]\n",
      " [-0.0954188   0.04568241  0.          0.01670882]\n",
      " [ 0.          0.          0.          0.        ]]\n"
     ]
    }
   ],
   "source": [
    "from traoptlibrary.traopt_utilis import se3_vee, se3_hat\n",
    "\n",
    "a = np.random.rand(6,1)\n",
    "h = 0.1\n",
    "print(se3_hat( a ) * h)\n",
    "print(se3_hat( a * h ) )"
   ]
  },
  {
   "cell_type": "code",
   "execution_count": 92,
   "metadata": {},
   "outputs": [
    {
     "name": "stdout",
     "output_type": "stream",
     "text": [
      " 0.666477  0.850753  0.746543   0.39385 -0.705477   2.72937\n",
      " 1.99943  2.55226  2.23963  1.18155 -2.11643  8.18812\n"
     ]
    }
   ],
   "source": [
    "x = SE3Tangent.Random()\n",
    "print(x)\n",
    "print(x * 3)"
   ]
  },
  {
   "cell_type": "code",
   "execution_count": 13,
   "metadata": {},
   "outputs": [
    {
     "name": "stdout",
     "output_type": "stream",
     "text": [
      "q_new is \n",
      " [[ 0.08459653  0.88833524  0.45133572  0.94126826]\n",
      " [ 0.9449502   0.07216584 -0.31915702  0.80441615]\n",
      " [-0.31608945  0.45348936 -0.83332758  0.70183957]\n",
      " [ 0.          0.          0.          1.        ]] \n",
      "q is \n",
      " [[ 0.4666685  -0.76000163  0.45234724  0.52049747]\n",
      " [-0.45036899 -0.64438034 -0.61801436  0.02507073]\n",
      " [ 0.76117559  0.08468466 -0.64299318  0.33544752]\n",
      " [ 0.          0.          0.          1.        ]]\n",
      "q_new_mnf is \n",
      " [[ 0.08459653  0.88833524  0.45133572  0.94126826]\n",
      " [ 0.9449502   0.07216584 -0.31915702  0.80441615]\n",
      " [-0.31608945  0.45348936 -0.83332758  0.70183957]\n",
      " [ 0.          0.          0.          1.        ]] \n",
      "q_mnf is \n",
      " [[ 0.4666685  -0.76000163  0.45234724  0.52049747]\n",
      " [-0.45036899 -0.64438034 -0.61801436  0.02507073]\n",
      " [ 0.76117559  0.08468466 -0.64299318  0.33544752]\n",
      " [ 0.          0.          0.          1.        ]]\n",
      "se3_vee(logm(np.linalg.inv( q ) @ q_new )) is\n",
      " [ 0.43771647  0.10005804 -2.2835324   1.03924482 -0.35952824 -0.33260726] \n",
      "se3_vee(logm(np.linalg.inv( q ) @ q_new )) is\n",
      " [ 0.43771647  0.10005804 -2.2835324   1.03924482 -0.35952824 -0.33260726] \n",
      "manifse32se3( q_new_mnf - q_mnf ) is\n",
      " [ 0.43771647  0.10005804 -2.2835324   1.03924482 -0.35952824 -0.33260726]\n"
     ]
    }
   ],
   "source": [
    "from traoptlibrary.traopt_utilis import SE32manifSE3, manifse32se3, se3_vee\n",
    "from scipy.linalg import logm\n",
    "\n",
    "q_new = SE3.Random().transform()\n",
    "q = SE3.Random().transform()\n",
    "\n",
    "print(\"q_new is \\n\", q_new,\n",
    "      \"\\nq is \\n\", q)\n",
    "\n",
    "q_new_mnf = SE32manifSE3(q_new)\n",
    "q_mnf = SE32manifSE3(q)\n",
    "\n",
    "print(\"q_new_mnf is \\n\", q_new_mnf.transform(),\n",
    "      \"\\nq_mnf is \\n\", q_mnf.transform())\n",
    "\n",
    "print(\"se3_vee(logm(np.linalg.inv( q ) @ q_new )) is\\n\", se3_vee(logm(np.linalg.inv( q ) @ q_new )),\n",
    "      \"\\nse3_vee(logm(np.linalg.inv( q ) @ q_new )) is\\n\", se3_vee(logm( np.linalg.inv( q_mnf.transform() ) @ q_new_mnf.transform() )),\n",
    "      \"\\nmanifse32se3( q_new_mnf - q_mnf ) is\\n\", manifse32se3( q_new_mnf - q_mnf ))\n"
   ]
  },
  {
   "cell_type": "code",
   "execution_count": 57,
   "metadata": {},
   "outputs": [
    {
     "name": "stdout",
     "output_type": "stream",
     "text": [
      "2.94 ms ± 203 µs per loop (mean ± std. dev. of 7 runs, 100 loops each)\n"
     ]
    }
   ],
   "source": [
    "%%timeit\n",
    "se3_vee(logm(np.linalg.inv( q ) @ q_new ))"
   ]
  },
  {
   "cell_type": "code",
   "execution_count": 55,
   "metadata": {},
   "outputs": [
    {
     "name": "stdout",
     "output_type": "stream",
     "text": [
      "4.46 µs ± 295 ns per loop (mean ± std. dev. of 7 runs, 100000 loops each)\n"
     ]
    }
   ],
   "source": [
    "%%timeit\n",
    "# q_new_mnf = SE32manifSE3(q_new)\n",
    "# q_mnf = SE32manifSE3(q)\n",
    "manifse32se3( q_new_mnf - q_mnf )"
   ]
  },
  {
   "cell_type": "code",
   "execution_count": 3,
   "metadata": {},
   "outputs": [
    {
     "name": "stdout",
     "output_type": "stream",
     "text": [
      "[[ 0.72553685  0.55032358 -0.41320726 -0.19811121]\n",
      " [-0.16755739  0.72362729  0.66954318 -0.74041911]\n",
      " [ 0.66747345 -0.41654232  0.61722904 -0.7823824 ]\n",
      " [ 0.          0.          0.          1.        ]]\n",
      "[[ 1.78441935  1.19254358 -0.38238142 -0.69712937]\n",
      " [ 0.10982063  1.77792206  1.24944678 -2.23628007]\n",
      " [ 1.24752362 -0.38860988  1.4159014  -1.55015766]\n",
      " [ 0.          0.          0.          2.71828183]]\n"
     ]
    }
   ],
   "source": [
    "from scipy.linalg import expm\n",
    "\n",
    "X = SE3.Random().transform()\n",
    "print(X)\n"
   ]
  }
 ],
 "metadata": {
  "kernelspec": {
   "display_name": "py310",
   "language": "python",
   "name": "python3"
  },
  "language_info": {
   "codemirror_mode": {
    "name": "ipython",
    "version": 3
   },
   "file_extension": ".py",
   "mimetype": "text/x-python",
   "name": "python",
   "nbconvert_exporter": "python",
   "pygments_lexer": "ipython3",
   "version": "3.10.13"
  }
 },
 "nbformat": 4,
 "nbformat_minor": 2
}
