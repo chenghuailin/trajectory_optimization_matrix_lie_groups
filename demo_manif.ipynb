{
 "cells": [
  {
   "cell_type": "code",
   "execution_count": 24,
   "metadata": {},
   "outputs": [],
   "source": [
    "import numpy as np\n",
    "import jax.numpy as jnp\n",
    "from manifpy import SE3, SE3Tangent, SO3, SO3Tangent"
   ]
  },
  {
   "cell_type": "code",
   "execution_count": 23,
   "metadata": {},
   "outputs": [
    {
     "name": "stdout",
     "output_type": "stream",
     "text": [
      "x is \n",
      " -0.466669 0.0795207 -0.249586  0.176643  -2.73933 0.0688413 \n",
      "x is  -0.29190264050471715 \n",
      "y is  0.3757227805330059 \n",
      "z is  -0.6680516673568877 \n",
      "translation is  [-0.29190264  0.37572278 -0.66805167] \n",
      "transformation is \n",
      " [[ 0.43141319 -0.52362709  0.73464095 -0.29190264]\n",
      " [ 0.62368405  0.76148747  0.1765079   0.37572278]\n",
      " [-0.6518442   0.38203601  0.6550936  -0.66805167]\n",
      " [ 0.          0.          0.          1.        ]] \n",
      "rotation is \n",
      " [[ 0.43141319 -0.52362709  0.73464095]\n",
      " [ 0.62368405  0.76148747  0.1765079 ]\n",
      " [-0.6518442   0.38203601  0.6550936 ]] \n",
      "adjoint is \n",
      " [[ 0.43141319 -0.52362709  0.73464095  0.17174046  0.6522526   0.36404999]\n",
      " [ 0.62368405  0.76148747  0.1765079  -0.47848135  0.46132727 -0.29955456]\n",
      " [-0.6518442   0.38203601  0.6550936  -0.34414679 -0.02554158 -0.32754446]\n",
      " [ 0.          0.          0.          0.43141319 -0.52362709  0.73464095]\n",
      " [ 0.          0.          0.          0.62368405  0.76148747  0.1765079 ]\n",
      " [ 0.          0.          0.         -0.6518442   0.38203601  0.6550936 ]] \n",
      "Lie Algebra is \n",
      "  0.162401  0.382329 -0.757419  0.128553  0.867214  0.717616\n"
     ]
    }
   ],
   "source": [
    "X = SE3.Random()\n",
    "print(\"x is \\n\", x, \"\\n\"\n",
    "      \"x is \",X.x(),\n",
    "      \"\\ny is \", X.y(),\n",
    "      \"\\nz is \", X.z(),\n",
    "      \"\\ntranslation is \", X.translation(),\n",
    "      \"\\ntransformation is \\n\", X.transform(),\n",
    "      \"\\nrotation is \\n\", X.rotation(),\n",
    "      \"\\nadjoint is \\n\", X.adj(),\n",
    "      \"\\nLie Algebra is \\n\", X.log())"
   ]
  },
  {
   "cell_type": "code",
   "execution_count": 21,
   "metadata": {},
   "outputs": [
    {
     "name": "stdout",
     "output_type": "stream",
     "text": [
      "x is \n",
      " -0.466669 0.0795207 -0.249586  0.176643  -2.73933 0.0688413 \n",
      "x hat is \n",
      " [[ 0.         -0.06884131 -2.73933129 -0.4666685 ]\n",
      " [ 0.06884131  0.         -0.17664267  0.07952068]\n",
      " [ 2.73933129  0.17664267  0.         -0.24958605]\n",
      " [ 0.          0.          0.          0.        ]] \n",
      "exp(x)  is \n",
      " [[-0.91476665 -0.13305745 -0.3814416   0.10104896]\n",
      " [-0.1137298   0.99083459 -0.07288584  0.1133561 ]\n",
      " [ 0.38764353 -0.02329226 -0.92151504 -0.35993695]\n",
      " [ 0.          0.          0.          1.        ]] \n",
      "adjoint x on Lie Algebra is \n",
      " [[ 0.         -0.06884131 -2.73933129  0.          0.24958605  0.07952068]\n",
      " [ 0.06884131  0.         -0.17664267 -0.24958605  0.          0.4666685 ]\n",
      " [ 2.73933129  0.17664267  0.         -0.07952068 -0.4666685   0.        ]\n",
      " [ 0.          0.          0.          0.         -0.06884131 -2.73933129]\n",
      " [ 0.          0.          0.          0.06884131  0.         -0.17664267]\n",
      " [ 0.          0.          0.          2.73933129  0.17664267  0.        ]]\n"
     ]
    }
   ],
   "source": [
    "x = SE3Tangent.Random()\n",
    "print(\"x is \\n\", x, \"\\n\",\n",
    "      \"x hat is \\n\", x.hat(),\n",
    "      \"\\nexp(x)  is \\n\", x.exp().transform(),\n",
    "      \"\\nadjoint x on Lie Algebra is \\n\", x.smallAdj()\n",
    "      )"
   ]
  },
  {
   "cell_type": "code",
   "execution_count": 36,
   "metadata": {},
   "outputs": [
    {
     "name": "stdout",
     "output_type": "stream",
     "text": [
      "[[ 0.68552941  0.61770753  0.38533989  0.42463356 -0.75351631  0.45246784]\n",
      " [-0.69555607  0.7120268   0.09601868  0.47768089  0.38951239  0.571874  ]\n",
      " [-0.21506087 -0.33384913  0.91776554 -0.19136465 -0.56345645 -0.24980726]\n",
      " [ 0.          0.          0.          0.68552941  0.61770753  0.38533989]\n",
      " [ 0.          0.          0.         -0.69555607  0.7120268   0.09601868]\n",
      " [ 0.          0.          0.         -0.21506087 -0.33384913  0.91776554]]\n"
     ]
    }
   ],
   "source": [
    "print(x.exp().adj())"
   ]
  },
  {
   "cell_type": "code",
   "execution_count": 42,
   "metadata": {},
   "outputs": [
    {
     "data": {
      "text/plain": [
       "manifpy._bindings.SE3"
      ]
     },
     "execution_count": 42,
     "metadata": {},
     "output_type": "execute_result"
    }
   ],
   "source": [
    "type(x.exp())"
   ]
  },
  {
   "cell_type": "code",
   "execution_count": 29,
   "metadata": {},
   "outputs": [
    {
     "name": "stdout",
     "output_type": "stream",
     "text": [
      "\n",
      "x is \n",
      " -1.13812 0.454259   1.9602 \n",
      "x hat is \n",
      " [[ 0.         -1.96020373  0.45425941]\n",
      " [ 1.96020373  0.          1.13812369]\n",
      " [-0.45425941 -1.13812369  0.        ]] \n",
      "exp(x)  is \n",
      " [[-0.26898485 -0.78768752 -0.55425221]\n",
      " [ 0.4636026  -0.61029793  0.64234654]\n",
      " [-0.84422733 -0.08417128  0.52933488]] \n",
      "the 1st generator/basis is \n",
      " [[ 0. -1.  0.]\n",
      " [ 1.  0.  0.]\n",
      " [ 0.  0.  0.]] \n",
      "adjoint x on Lie Group is \n",
      " [[-0.26898485 -0.78768752 -0.55425221]\n",
      " [ 0.4636026  -0.61029793  0.64234654]\n",
      " [-0.84422733 -0.08417128  0.52933488]] \n",
      "adjoint x on Lie Algebra is \n",
      " [[ 0.         -1.96020373  0.45425941]\n",
      " [ 1.96020373  0.          1.13812369]\n",
      " [-0.45425941 -1.13812369  0.        ]]\n"
     ]
    }
   ],
   "source": [
    "x = SO3Tangent.Random()\n",
    "print(\"\\nx is \\n\", x,\n",
    "      \"\\nx hat is \\n\", x.hat(),\n",
    "      \"\\nexp(x)  is \\n\", x.exp().rotation(),\n",
    "      \"\\nthe 1st generator/basis is \\n\", x.generator(2),\n",
    "      \"\\nadjoint x on Lie Group is \\n\", x.exp().adj(),\n",
    "      \"\\nadjoint x on Lie Algebra is \\n\", x.smallAdj(),\n",
    "      )"
   ]
  },
  {
   "cell_type": "code",
   "execution_count": 11,
   "metadata": {},
   "outputs": [
    {
     "data": {
      "text/plain": [
       "numpy.ndarray"
      ]
     },
     "execution_count": 11,
     "metadata": {},
     "output_type": "execute_result"
    }
   ],
   "source": [
    "type(x.hat())"
   ]
  }
 ],
 "metadata": {
  "kernelspec": {
   "display_name": "py310",
   "language": "python",
   "name": "python3"
  },
  "language_info": {
   "codemirror_mode": {
    "name": "ipython",
    "version": 3
   },
   "file_extension": ".py",
   "mimetype": "text/x-python",
   "name": "python",
   "nbconvert_exporter": "python",
   "pygments_lexer": "ipython3",
   "version": "3.10.13"
  }
 },
 "nbformat": 4,
 "nbformat_minor": 2
}
