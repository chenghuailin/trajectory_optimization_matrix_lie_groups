{
 "cells": [
  {
   "cell_type": "code",
   "execution_count": 8,
   "metadata": {},
   "outputs": [],
   "source": [
    "from manifpy import SE3, SE3Tangent"
   ]
  },
  {
   "cell_type": "code",
   "execution_count": 13,
   "metadata": {},
   "outputs": [
    {
     "name": "stdout",
     "output_type": "stream",
     "text": [
      "-0.198111 -0.740419 -0.782382  0.310113   0.30857  0.204979 -0.875556\n"
     ]
    }
   ],
   "source": [
    "X = SE3.Random()\n",
    "# X.adj()\n",
    "print(X)"
   ]
  },
  {
   "cell_type": "code",
   "execution_count": 24,
   "metadata": {},
   "outputs": [
    {
     "name": "stdout",
     "output_type": "stream",
     "text": [
      "x is  -0.198111211507633 \n",
      "y is  -0.7404191064370885 \n",
      "z is  -0.7823823959484615 \n",
      "translation is  [-0.19811121 -0.74041911 -0.7823824 ] \n",
      "transformation is \n",
      " [[ 0.72553685  0.55032358 -0.41320726 -0.19811121]\n",
      " [-0.16755739  0.72362729  0.66954318 -0.74041911]\n",
      " [ 0.66747345 -0.41654232  0.61722904 -0.7823824 ]\n",
      " [ 0.          0.          0.          1.        ]] \n",
      "rotation is \n",
      " [[ 0.72553685  0.55032358 -0.41320726]\n",
      " [-0.16755739  0.72362729  0.66954318]\n",
      " [ 0.66747345 -0.41654232  0.61722904]] \n",
      "adjoint is \n",
      " [[ 0.72553685  0.55032358 -0.41320726 -0.62530404  0.87456914  0.06683063]\n",
      " [-0.16755739  0.72362729  0.66954318 -0.43541328 -0.51308519  0.44556608]\n",
      " [ 0.66747345 -0.41654232  0.61722904  0.57039634  0.26411142 -0.43859056]\n",
      " [ 0.          0.          0.          0.72553685  0.55032358 -0.41320726]\n",
      " [ 0.          0.          0.         -0.16755739  0.72362729  0.66954318]\n",
      " [ 0.          0.          0.          0.66747345 -0.41654232  0.61722904]] \n",
      "Lie Algebra is \n",
      " -0.326175 -0.517068 -0.924862 -0.647307 -0.644086 -0.427857\n"
     ]
    }
   ],
   "source": [
    "print(\"x is \",X.x(),\n",
    "      \"\\ny is \", X.y(),\n",
    "      \"\\nz is \", X.z(),\n",
    "      \"\\ntranslation is \", X.translation(),\n",
    "      \"\\ntransformation is \\n\", X.transform(),\n",
    "      \"\\nrotation is \\n\", X.rotation(),\n",
    "      \"\\nadjoint is \\n\", X.adj(),\n",
    "      \"\\nLie Algebra is \\n\", X.log())"
   ]
  },
  {
   "cell_type": "code",
   "execution_count": 31,
   "metadata": {},
   "outputs": [
    {
     "name": "stdout",
     "output_type": "stream",
     "text": [
      "-0.615572  0.326454  0.780465 -0.243401   0.33996 -0.743599\n"
     ]
    }
   ],
   "source": [
    "x = SE3Tangent.Random()\n",
    "print(x)"
   ]
  },
  {
   "cell_type": "code",
   "execution_count": 43,
   "metadata": {},
   "outputs": [
    {
     "name": "stdout",
     "output_type": "stream",
     "text": [
      "x hat is \n",
      " [[ 0.          0.74359948  0.33996045 -0.61557231]\n",
      " [-0.74359948  0.          0.24340085  0.32645385]\n",
      " [-0.33996045 -0.24340085  0.          0.78046521]\n",
      " [ 0.          0.          0.          0.        ]] \n",
      "exp(x)  is \n",
      " [[ 0.68552941  0.61770753  0.38533989 -0.29207741]\n",
      " [-0.69555607  0.7120268   0.09601868  0.57549809]\n",
      " [-0.21506087 -0.33384913  0.91776554  0.7884349 ]\n",
      " [ 0.          0.          0.          1.        ]] \n",
      "adjoint x is \n",
      " [[ 0.          0.74359948  0.33996045  0.         -0.78046521  0.32645385]\n",
      " [-0.74359948  0.          0.24340085  0.78046521  0.          0.61557231]\n",
      " [-0.33996045 -0.24340085  0.         -0.32645385 -0.61557231  0.        ]\n",
      " [ 0.          0.          0.          0.          0.74359948  0.33996045]\n",
      " [ 0.          0.          0.         -0.74359948  0.          0.24340085]\n",
      " [ 0.          0.          0.         -0.33996045 -0.24340085  0.        ]]\n"
     ]
    }
   ],
   "source": [
    "print(\"x hat is \\n\", x.hat(),\n",
    "      \"\\nexp(x)  is \\n\", x.exp().transform(),\n",
    "      \"\\nadjoint x is \\n\", x.smallAdj()\n",
    "      )"
   ]
  },
  {
   "cell_type": "code",
   "execution_count": 36,
   "metadata": {},
   "outputs": [
    {
     "name": "stdout",
     "output_type": "stream",
     "text": [
      "[[ 0.68552941  0.61770753  0.38533989  0.42463356 -0.75351631  0.45246784]\n",
      " [-0.69555607  0.7120268   0.09601868  0.47768089  0.38951239  0.571874  ]\n",
      " [-0.21506087 -0.33384913  0.91776554 -0.19136465 -0.56345645 -0.24980726]\n",
      " [ 0.          0.          0.          0.68552941  0.61770753  0.38533989]\n",
      " [ 0.          0.          0.         -0.69555607  0.7120268   0.09601868]\n",
      " [ 0.          0.          0.         -0.21506087 -0.33384913  0.91776554]]\n"
     ]
    }
   ],
   "source": [
    "print(x.exp().adj())"
   ]
  },
  {
   "cell_type": "code",
   "execution_count": 42,
   "metadata": {},
   "outputs": [
    {
     "data": {
      "text/plain": [
       "manifpy._bindings.SE3"
      ]
     },
     "execution_count": 42,
     "metadata": {},
     "output_type": "execute_result"
    }
   ],
   "source": [
    "type(x.exp())"
   ]
  }
 ],
 "metadata": {
  "kernelspec": {
   "display_name": "py310",
   "language": "python",
   "name": "python3"
  },
  "language_info": {
   "codemirror_mode": {
    "name": "ipython",
    "version": 3
   },
   "file_extension": ".py",
   "mimetype": "text/x-python",
   "name": "python",
   "nbconvert_exporter": "python",
   "pygments_lexer": "ipython3",
   "version": "3.10.13"
  }
 },
 "nbformat": 4,
 "nbformat_minor": 2
}
