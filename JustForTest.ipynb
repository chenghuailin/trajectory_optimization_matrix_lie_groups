{
 "cells": [
  {
   "cell_type": "code",
   "execution_count": 12,
   "metadata": {},
   "outputs": [
    {
     "name": "stdout",
     "output_type": "stream",
     "text": [
      "0 0 0 0 0 0 1\n",
      "0 0 0 0 0 0 1\n"
     ]
    },
    {
     "data": {
      "text/plain": [
       "array([[ 1.,  0.,  0., -0., -0., -0.],\n",
       "       [ 0.,  1.,  0., -0., -0., -0.],\n",
       "       [ 0.,  0.,  1., -0., -0., -0.],\n",
       "       [ 0.,  0.,  0.,  1.,  0.,  0.],\n",
       "       [ 0.,  0.,  0.,  0.,  1.,  0.],\n",
       "       [ 0.,  0.,  0.,  0.,  0.,  1.]])"
      ]
     },
     "execution_count": 12,
     "metadata": {},
     "output_type": "execute_result"
    }
   ],
   "source": [
    "from manifpy import SE3, SE3Tangent\n",
    "import numpy as np\n",
    "\n",
    "X = SE3.Identity()\n",
    "print(X)\n",
    "Xbar = SE3.Identity()\n",
    "print(Xbar)\n",
    "J_err_Xt = np.zeros((SE3.DoF, SE3.DoF))\n",
    "\n",
    "X.minus( Xbar, J_err_Xt )\n",
    "\n",
    "J_err_Xt"
   ]
  },
  {
   "cell_type": "code",
   "execution_count": 18,
   "metadata": {},
   "outputs": [
    {
     "name": "stdout",
     "output_type": "stream",
     "text": [
      "[0. 0. 0. 0. 0. 0. 1.]\n",
      "[0. 0. 0. 1.]\n",
      "0.0\n",
      "0.0\n",
      "0.0\n"
     ]
    }
   ],
   "source": [
    "X = SE3.Identity()\n",
    "\n",
    "print(X.coeffs())\n",
    "print(X.quat())\n",
    "print(X.x())\n",
    "print(X.y())\n",
    "print(X.z())"
   ]
  },
  {
   "cell_type": "code",
   "execution_count": 2,
   "metadata": {},
   "outputs": [
    {
     "data": {
      "text/plain": [
       "array([3])"
      ]
     },
     "execution_count": 2,
     "metadata": {},
     "output_type": "execute_result"
    }
   ],
   "source": [
    "import numpy as jnp\n",
    "import numpy as np\n",
    "\n",
    "jnp.array([3])"
   ]
  },
  {
   "cell_type": "code",
   "execution_count": 23,
   "metadata": {},
   "outputs": [
    {
     "name": "stdout",
     "output_type": "stream",
     "text": [
      "1 1 1 0 0 0 1\n"
     ]
    }
   ],
   "source": [
    "print(X + SE3Tangent(np.array([1.,1.,1.,0.,0.,0.])))"
   ]
  }
 ],
 "metadata": {
  "kernelspec": {
   "display_name": "py310",
   "language": "python",
   "name": "python3"
  },
  "language_info": {
   "codemirror_mode": {
    "name": "ipython",
    "version": 3
   },
   "file_extension": ".py",
   "mimetype": "text/x-python",
   "name": "python",
   "nbconvert_exporter": "python",
   "pygments_lexer": "ipython3",
   "version": "3.10.13"
  }
 },
 "nbformat": 4,
 "nbformat_minor": 2
}
