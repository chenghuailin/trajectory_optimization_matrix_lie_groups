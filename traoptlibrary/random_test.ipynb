{
 "cells": [
  {
   "cell_type": "code",
   "execution_count": 2,
   "id": "da967ef4-7948-42a9-b566-57c69a70f9ea",
   "metadata": {},
   "outputs": [
    {
     "name": "stderr",
     "output_type": "stream",
     "text": [
      "An NVIDIA GPU may be present on this machine, but a CUDA-enabled jaxlib is not installed. Falling back to cpu.\n"
     ]
    }
   ],
   "source": [
    "from traopt_controller import iLQR\n",
    "from traopt_dynamics import AutoDiffDynamics\n",
    "from traopt_cost import AutoDiffCost\n",
    "\n",
    "from jax import random\n",
    "import jax.numpy as jnp\n",
    "import numpy as np\n",
    "import matplotlib.pyplot as plt\n",
    "from  functools import partial\n",
    "\n",
    "seed = 24234156\n",
    "key = random.key(seed)\n",
    "\n",
    "dt = 0.01"
   ]
  },
  {
   "cell_type": "code",
   "execution_count": 3,
   "id": "4063267a-3611-48e6-a207-32280caef0dc",
   "metadata": {},
   "outputs": [],
   "source": [
    "\n",
    "def f(x, u):\n",
    "    g = 9.8 # m/s^2\n",
    "    m = 2 # kg\n",
    "    l = 0.1 # m\n",
    "    \n",
    "    x1, x2 = x\n",
    "\n",
    "    if isinstance(u, jnp.ndarray) and (u.shape == (1,)):\n",
    "        u, = u\n",
    "\n",
    "    dx1 = x2\n",
    "    dx2 = - (g / l) * jnp.cos(x1) + (1 / (m * (l**2) )) * u # (u**2)\n",
    "\n",
    "    return jnp.array([dx1, dx2])\n",
    "\n",
    "\n",
    "def fd_rk4(x, u, i, dt):\n",
    "    g = 9.8 # m/s^2\n",
    "    m = 2 # kg\n",
    "    l = 0.5 # m\n",
    "\n",
    "    s1 = f(x,u)\n",
    "    s2 = f( x+ dt/2*s1, u )\n",
    "    s3 = f( x+ dt/2*s2, u )\n",
    "    s4 = f( x+ dt*s3, u )\n",
    "    x_next = x + dt/6 * ( s1 + 2 * s2 + 2 * s3 + s4 )\n",
    "    \n",
    "    return x_next\n",
    "\n",
    "fd_rk4_dt = partial( fd_rk4, dt = dt )\n",
    "\n",
    "x_goal = jnp.array([jnp.pi/2, 0])\n",
    "\n",
    "def l(x,u,i):\n",
    "    R = 1\n",
    "    x_diff = x - x_goal\n",
    "    Q = jnp.diag( jnp.array([1000,50]) )\n",
    "    return 0.5 * u * R * u + 0.5 * x_diff.T @ Q @ x_diff\n",
    "\n",
    "def l_terminal(x,i):\n",
    "    x_diff = x - x_goal\n",
    "    Q_terminal = jnp.diag( jnp.array([1000,50]) )\n",
    "    return 0.5 * x_diff.T @ Q_terminal @ x_diff\n",
    "\n",
    "def on_iteration(iteration_count, xs, us, J_opt, accepted, converged, J_hist):\n",
    "    J_hist.append(J_opt)\n",
    "    info = \"converged\" if converged else (\"accepted\" if accepted else \"failed\")\n",
    "    final_state = xs[-1]\n",
    "    print(\"iteration\", iteration_count, info, J_opt, final_state)"
   ]
  },
  {
   "cell_type": "code",
   "execution_count": 8,
   "id": "04132ad0-a301-45de-86fa-5790a6372013",
   "metadata": {},
   "outputs": [],
   "source": [
    "state_size = 2\n",
    "action_size = 1\n",
    "\n",
    "dynamics = AutoDiffDynamics( fd_rk4_dt , state_size, action_size, hessians=True ) \n",
    "\n",
    "x = random.normal(key, (state_size,))\n",
    "u = random.normal(key, (action_size,))\n",
    "i = 1"
   ]
  },
  {
   "cell_type": "code",
   "execution_count": 9,
   "id": "189da01e-0c10-496c-830b-f4fe81c88d05",
   "metadata": {},
   "outputs": [
    {
     "name": "stdout",
     "output_type": "stream",
     "text": [
      "fux =  [[[1.7962398e-06 8.9707015e-09]]\n",
      "\n",
      " [[7.1900367e-04 5.3874937e-06]]]\n"
     ]
    }
   ],
   "source": [
    "print(\"fux = \", dynamics.f_ux(x,u,i))"
   ]
  },
  {
   "cell_type": "code",
   "execution_count": 18,
   "id": "0af07a35-6d99-4628-b5cc-2eeca2780b02",
   "metadata": {},
   "outputs": [
    {
     "data": {
      "text/plain": [
       "(2, 1, 2)"
      ]
     },
     "execution_count": 18,
     "metadata": {},
     "output_type": "execute_result"
    }
   ],
   "source": [
    "dynamics.f_ux(x,u,i).shape"
   ]
  },
  {
   "cell_type": "code",
   "execution_count": 17,
   "id": "88bab5dc-2e18-479b-8141-656ad1ee30e9",
   "metadata": {},
   "outputs": [
    {
     "data": {
      "text/plain": [
       "True"
      ]
     },
     "execution_count": 17,
     "metadata": {},
     "output_type": "execute_result"
    }
   ],
   "source": [
    "u = np.array([3.])\n",
    "u.shape\n",
    "isinstance(u, np.ndarray)"
   ]
  },
  {
   "cell_type": "code",
   "execution_count": 20,
   "id": "4391b79f-f816-47e2-98eb-a0171056aec4",
   "metadata": {},
   "outputs": [
    {
     "data": {
      "text/plain": [
       "Array([580.17035], dtype=float32)"
      ]
     },
     "execution_count": 20,
     "metadata": {},
     "output_type": "execute_result"
    }
   ],
   "source": [
    "cost = AutoDiffCost( l, l_terminal, state_size, action_size )\n",
    "cost.l(x, u, i, terminal=False)"
   ]
  }
 ],
 "metadata": {
  "kernelspec": {
   "display_name": "Python 3 (ipykernel)",
   "language": "python",
   "name": "python3"
  },
  "language_info": {
   "codemirror_mode": {
    "name": "ipython",
    "version": 3
   },
   "file_extension": ".py",
   "mimetype": "text/x-python",
   "name": "python",
   "nbconvert_exporter": "python",
   "pygments_lexer": "ipython3",
   "version": "3.10.13"
  }
 },
 "nbformat": 4,
 "nbformat_minor": 5
}
